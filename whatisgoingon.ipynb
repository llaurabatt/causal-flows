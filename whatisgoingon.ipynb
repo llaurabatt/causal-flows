{
 "cells": [
  {
   "cell_type": "code",
   "execution_count": 11,
   "id": "7b16b311-6424-4260-9129-f8fa299f528c",
   "metadata": {},
   "outputs": [],
   "source": [
    "import pandas as pd\n",
    "import numpy as np\n",
    "import torch\n",
    "from causal_nf.datasets.FF_dataset import FFDataset\n",
    "from causal_nf.preparators.FF_preparator import FFPreparator\n",
    "from yacs.config import CfgNode "
   ]
  },
  {
   "cell_type": "code",
   "execution_count": 12,
   "id": "e9510f9f-3bb2-48fc-9336-21af1ba42c46",
   "metadata": {},
   "outputs": [],
   "source": [
    "dataset = FFDataset(root_dir='./data/', split='train', seed=2)"
   ]
  },
  {
   "cell_type": "code",
   "execution_count": 14,
   "id": "22502f87-47ae-472f-af10-9e593f2062a9",
   "metadata": {},
   "outputs": [
    {
     "name": "stdout",
     "output_type": "stream",
     "text": [
      "\n",
      "Preparing data...\n"
     ]
    }
   ],
   "source": [
    "dataset.prepare_data()"
   ]
  },
  {
   "cell_type": "code",
   "execution_count": 17,
   "id": "f89fc52d-4591-4916-816e-1590dfc2e004",
   "metadata": {},
   "outputs": [
    {
     "data": {
      "text/plain": [
       "tensor([2.7054, 2.7106, 2.7448, 2.7402, 0.2130, 1.0635])"
      ]
     },
     "execution_count": 17,
     "metadata": {},
     "output_type": "execute_result"
    }
   ],
   "source": [
    "dataset.x.std(dim=0)"
   ]
  },
  {
   "cell_type": "code",
   "execution_count": 3,
   "id": "1b55caaa-34ea-4cf3-9b19-85093c75aa2c",
   "metadata": {},
   "outputs": [],
   "source": [
    "cfg_dataset = CfgNode({'root': './data', \n",
    "                       'name': 'FF_data', \n",
    "                       'sem_name': 'dummy', \n",
    "                       'splits': [0.8, 0.1, 0.1], \n",
    "                       'k_fold': 1, \n",
    "                       'shuffle_train': True, \n",
    "                       'single_split': False, \n",
    "                       'loss': 'default', \n",
    "                       'scale': 'default', \n",
    "                       'num_samples': 1000, \n",
    "                       'base_version': 1, \n",
    "                       'add_noise': False, \n",
    "                       'type': 'torch', \n",
    "                       'use_edge_attr': False})"
   ]
  },
  {
   "cell_type": "code",
   "execution_count": 4,
   "id": "2618877d-3f0e-49cb-af42-40a526ea6c37",
   "metadata": {
    "scrolled": true
   },
   "outputs": [
    {
     "name": "stdout",
     "output_type": "stream",
     "text": [
      "\n",
      "Preparing data...\n",
      "\n",
      "Preparing data...\n",
      "\n",
      "Preparing data...\n"
     ]
    }
   ],
   "source": [
    "preparator = FFPreparator.loader(cfg_dataset)\n",
    "preparator.prepare_data()"
   ]
  },
  {
   "cell_type": "code",
   "execution_count": 10,
   "id": "47c95061-7609-473e-b26c-f9b85a3d4a68",
   "metadata": {},
   "outputs": [
    {
     "data": {
      "text/plain": [
       "1"
      ]
     },
     "execution_count": 10,
     "metadata": {},
     "output_type": "execute_result"
    }
   ],
   "source": [
    "preparator.dataset.seed"
   ]
  },
  {
   "cell_type": "code",
   "execution_count": 8,
   "id": "e7c1a4ac-2f14-4342-8aea-0fedbe015bcd",
   "metadata": {},
   "outputs": [
    {
     "name": "stdout",
     "output_type": "stream",
     "text": [
      "scaler_transform StandardTransform(shift=tensor([2.7234, 2.7408, 2.7082, 2.6903, 1.9587]), scale=tensor([2.7295, 2.6963, 2.7701, 2.7185, 1.0559]))\n"
     ]
    },
    {
     "data": {
      "text/plain": [
       "<torchlikelihoods.scalers.standard.StandardScaler at 0x7fd921d4f460>"
      ]
     },
     "execution_count": 8,
     "metadata": {},
     "output_type": "execute_result"
    }
   ],
   "source": [
    "preparator.get_scaler()"
   ]
  },
  {
   "cell_type": "code",
   "execution_count": 13,
   "id": "52e25f69-2814-482a-aa8f-301b9c51f55b",
   "metadata": {},
   "outputs": [],
   "source": [
    "df = pd.read_csv('./data/ate_1.csv')[self.column_names]"
   ]
  },
  {
   "cell_type": "code",
   "execution_count": 15,
   "id": "3eebbcf1-5b24-41ce-b4cf-24a150226989",
   "metadata": {},
   "outputs": [
    {
     "name": "stdout",
     "output_type": "stream",
     "text": [
      "\n",
      "Preparing data...\n"
     ]
    }
   ],
   "source": [
    "self.prepare_data()"
   ]
  },
  {
   "cell_type": "code",
   "execution_count": 20,
   "id": "b277af35-00bb-461c-921e-40caba145e8d",
   "metadata": {},
   "outputs": [
    {
     "data": {
      "text/html": [
       "<div>\n",
       "<style scoped>\n",
       "    .dataframe tbody tr th:only-of-type {\n",
       "        vertical-align: middle;\n",
       "    }\n",
       "\n",
       "    .dataframe tbody tr th {\n",
       "        vertical-align: top;\n",
       "    }\n",
       "\n",
       "    .dataframe thead th {\n",
       "        text-align: right;\n",
       "    }\n",
       "</style>\n",
       "<table border=\"1\" class=\"dataframe\">\n",
       "  <thead>\n",
       "    <tr style=\"text-align: right;\">\n",
       "      <th></th>\n",
       "      <th>Z1</th>\n",
       "      <th>Z2</th>\n",
       "      <th>Z3</th>\n",
       "      <th>Z4</th>\n",
       "      <th>X</th>\n",
       "      <th>Y</th>\n",
       "    </tr>\n",
       "  </thead>\n",
       "  <tbody>\n",
       "    <tr>\n",
       "      <th>9137</th>\n",
       "      <td>6.255533</td>\n",
       "      <td>8.748625</td>\n",
       "      <td>8.356971</td>\n",
       "      <td>8.083456</td>\n",
       "      <td>1.0</td>\n",
       "      <td>2.143574</td>\n",
       "    </tr>\n",
       "  </tbody>\n",
       "</table>\n",
       "</div>"
      ],
      "text/plain": [
       "            Z1        Z2        Z3        Z4    X         Y\n",
       "9137  6.255533  8.748625  8.356971  8.083456  1.0  2.143574"
      ]
     },
     "execution_count": 20,
     "metadata": {},
     "output_type": "execute_result"
    }
   ],
   "source": [
    "df[(df['Z1'] <= 6.2556) & (df['Z1'] >= 6.2554)]"
   ]
  },
  {
   "cell_type": "code",
   "execution_count": 24,
   "id": "205590a0-f75e-474a-8192-833a9aad7d8c",
   "metadata": {},
   "outputs": [],
   "source": [
    "x_tmp2 = torch.cat((self.x[:, :4], self.x[:, 5:]), dim=1)"
   ]
  },
  {
   "cell_type": "code",
   "execution_count": 25,
   "id": "187db239-342d-40f6-a663-e69cab426e03",
   "metadata": {},
   "outputs": [
    {
     "data": {
      "text/plain": [
       "tensor([[6.2555e+00, 8.7486e+00, 8.3570e+00, 8.0835e+00, 2.1436e+00],\n",
       "        [2.9691e-01, 1.2251e+00, 2.1793e+00, 4.5479e+00, 7.0725e-01],\n",
       "        [2.1843e+00, 1.2083e+00, 1.4448e+00, 2.2987e+00, 3.1592e+00],\n",
       "        ...,\n",
       "        [1.0495e+00, 4.2641e+00, 2.5433e+00, 4.4560e+00, 1.9746e+00],\n",
       "        [4.7877e-03, 1.0302e+00, 2.4500e+00, 1.6125e+00, 2.5084e+00],\n",
       "        [2.9933e+00, 1.1879e+00, 1.1420e+01, 2.5519e+00, 3.4814e+00]])"
      ]
     },
     "execution_count": 25,
     "metadata": {},
     "output_type": "execute_result"
    }
   ],
   "source": [
    "x_tmp2"
   ]
  }
 ],
 "metadata": {
  "kernelspec": {
   "display_name": "bibi",
   "language": "python",
   "name": "bibi"
  },
  "language_info": {
   "codemirror_mode": {
    "name": "ipython",
    "version": 3
   },
   "file_extension": ".py",
   "mimetype": "text/x-python",
   "name": "python",
   "nbconvert_exporter": "python",
   "pygments_lexer": "ipython3",
   "version": "3.9.12"
  }
 },
 "nbformat": 4,
 "nbformat_minor": 5
}
