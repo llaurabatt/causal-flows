{
 "cells": [
  {
   "cell_type": "code",
   "execution_count": 1,
   "id": "ce6deb5c-72f2-4660-a00f-aff2c3a9642c",
   "metadata": {},
   "outputs": [
    {
     "name": "stderr",
     "output_type": "stream",
     "text": [
      "/Users/llaurabat/micromamba/envs/causal-flows/lib/python3.9/site-packages/tqdm/auto.py:21: TqdmWarning: IProgress not found. Please update jupyter and ipywidgets. See https://ipywidgets.readthedocs.io/en/stable/user_install.html\n",
      "  from .autonotebook import tqdm as notebook_tqdm\n"
     ]
    }
   ],
   "source": [
    "import causal_nf.utils.wandb_local as wandb_local\n",
    "import causal_nf.config as causal_nf_config\n",
    "from causal_nf.config import cfg\n",
    "import causal_nf.utils.training as causal_nf_train\n",
    "import os\n",
    "import glob\n",
    "import argparse\n",
    "from yacs.config import CfgNode \n",
    "import torch\n",
    "import causal_nf.utils.io as causal_nf_io\n",
    "import time\n",
    "import numpy as np\n",
    "# from causal_nf.preparators.FF_preparator import FFPreparator\n",
    "from causal_nf.config import cfg\n",
    "from tqdm import tqdm"
   ]
  },
  {
   "cell_type": "code",
   "execution_count": 7,
   "id": "b54ab655-caf1-4fc9-ae67-1a58eb6b2033",
   "metadata": {},
   "outputs": [],
   "source": [
    "ate_folders = ['output_FF_ate1_anFalse', 'output_FF_ate5_anFalse'] #, 'output_FF_ate5'] #output_FF_ate5\n",
    "models = ['model_3']#,'model_2']#, 'model_3']#'model_2', 'model_3'\n",
    "model_map = {'model_1':'M1', 'model_2':'M2', 'model_3':'M3'}\n",
    "versions = ['v_0', 'v_1','v_2','v_3','v_4',]#'v_0','v_1','v_2','v_3','v_4',\n",
    "all_ates = {'output_FF_ate1_anFalse': {'model_1':{'v_0':[],'v_1':[],'v_2':[],'v_3':[],'v_4':[],},\n",
    "                              'model_2':{'v_0':[],'v_1':[],'v_2':[],'v_3':[],'v_4':[],},\n",
    "                              'model_3':{'v_0':[],'v_1':[],'v_2':[],'v_3':[],'v_4':[],},},\n",
    "            'output_FF_ate5_anFalse': {'model_1':{'v_0':[],'v_1':[],'v_2':[],'v_3':[],'v_4':[],},\n",
    "                              'model_2':{'v_0':[],'v_1':[],'v_2':[],'v_3':[],'v_4':[],},\n",
    "                              'model_3':{'v_0':[],'v_1':[],'v_2':[],'v_3':[],'v_4':[],},} } "
   ]
  },
  {
   "cell_type": "code",
   "execution_count": 8,
   "id": "f800f232-664c-452b-86ff-a9aa709e0f4a",
   "metadata": {},
   "outputs": [
    {
     "name": "stdout",
     "output_type": "stream",
     "text": [
      "./output_FF_ate1_anFalse/model_3/v_0/14d437f48ccc11efa0f1acde48001122\n",
      "\n",
      "Preparing data...\n",
      "\n",
      "Preparing data...\n",
      "\n",
      "Preparing data...\n",
      "NSF(\n",
      "  (transforms): ModuleList(\n",
      "    (0): MaskedAutoregressiveTransform(\n",
      "      (base): MonotonicRQSTransform(bins=8)\n",
      "      (order): [0, 1, 2, 3, 4, ..., 7, 8, 9, 10, 11]\n",
      "      (hyper): MaskedMLP(\n",
      "        (0): MaskedLinear(in_features=12, out_features=32, bias=True)\n",
      "        (1): ELU(alpha=1.0)\n",
      "        (2): MaskedLinear(in_features=32, out_features=32, bias=True)\n",
      "        (3): ELU(alpha=1.0)\n",
      "        (4): MaskedLinear(in_features=32, out_features=32, bias=True)\n",
      "        (5): ELU(alpha=1.0)\n",
      "        (6): MaskedLinear(in_features=32, out_features=276, bias=True)\n",
      "      )\n",
      "    )\n",
      "  )\n",
      "  (base): DiagNormal(loc: torch.Size([12]), scale: torch.Size([12]))\n",
      ")\n",
      "\u001b[94m[INFO] Loading <class 'causal_nf.models.causal_nf.CausalNFightning'> from ./output_FF_ate1_anFalse/model_3/v_0/14d437f48ccc11efa0f1acde48001122/last.ckpt\u001b[0m\n",
      "scaler_transform StandardTransform(shift=tensor([3.6822, 3.6857, 3.6729, 3.6156, 3.7399, 0.4963, 0.5074, 0.5036, 0.4978,\n",
      "        0.4960, 0.9561, 1.9748]), scale=tensor([3.6885, 3.6106, 3.7016, 3.6797, 3.7784, 0.5000, 0.5000, 0.5000, 0.5000,\n",
      "        0.5000, 0.2048, 0.9625]))\n",
      "StandardScaler(\n",
      "\t\tmu_=tensor([[3.6822, 3.6857, 3.6729, 3.6156, 3.7399, 0.4963, 0.5074, 0.5036, 0.4978,\n",
      "         0.4960, 0.9561, 1.9748]]), \n",
      "\t\tscale_=tensor([[3.6885, 3.6106, 3.7016, 3.6797, 3.7784, 0.5000, 0.5000, 0.5000, 0.5000,\n",
      "         0.5000, 0.2048, 0.9625]])\n",
      ")\n"
     ]
    },
    {
     "name": "stderr",
     "output_type": "stream",
     "text": [
      "100%|█████████████████████████████████████████████████████████████████████| 5/5 [00:07<00:00,  1.57s/it]\n"
     ]
    },
    {
     "name": "stdout",
     "output_type": "stream",
     "text": [
      "Folder output_FF_ate1_anFalse model_3 v_0: Mean ATE over 5 rounds =  0.78236663\n",
      "Folder output_FF_ate1_anFalse model_3 v_0: Stddev ATE over 5 rounds =  0.012475718\n",
      "./output_FF_ate1_anFalse/model_3/v_1/89a5068e8ccd11efaffeacde48001122\n",
      "\n",
      "Preparing data...\n",
      "\n",
      "Preparing data...\n",
      "\n",
      "Preparing data...\n",
      "NSF(\n",
      "  (transforms): ModuleList(\n",
      "    (0): MaskedAutoregressiveTransform(\n",
      "      (base): MonotonicRQSTransform(bins=8)\n",
      "      (order): [0, 1, 2, 3, 4, ..., 7, 8, 9, 10, 11]\n",
      "      (hyper): MaskedMLP(\n",
      "        (0): MaskedLinear(in_features=12, out_features=32, bias=True)\n",
      "        (1): ELU(alpha=1.0)\n",
      "        (2): MaskedLinear(in_features=32, out_features=32, bias=True)\n",
      "        (3): ELU(alpha=1.0)\n",
      "        (4): MaskedLinear(in_features=32, out_features=32, bias=True)\n",
      "        (5): ELU(alpha=1.0)\n",
      "        (6): MaskedLinear(in_features=32, out_features=276, bias=True)\n",
      "      )\n",
      "    )\n",
      "  )\n",
      "  (base): DiagNormal(loc: torch.Size([12]), scale: torch.Size([12]))\n",
      ")\n",
      "\u001b[94m[INFO] Loading <class 'causal_nf.models.causal_nf.CausalNFightning'> from ./output_FF_ate1_anFalse/model_3/v_1/89a5068e8ccd11efaffeacde48001122/last.ckpt\u001b[0m\n",
      "scaler_transform StandardTransform(shift=tensor([3.7096, 3.6765, 3.6919, 3.5683, 3.6631, 0.5066, 0.5129, 0.5111, 0.5027,\n",
      "        0.5027, 0.9516, 1.9496]), scale=tensor([3.7286, 3.5938, 3.7422, 3.6022, 3.6877, 0.5000, 0.4999, 0.4999, 0.5000,\n",
      "        0.5000, 0.2146, 0.9685]))\n",
      "StandardScaler(\n",
      "\t\tmu_=tensor([[3.7096, 3.6765, 3.6919, 3.5683, 3.6631, 0.5066, 0.5129, 0.5111, 0.5027,\n",
      "         0.5027, 0.9516, 1.9496]]), \n",
      "\t\tscale_=tensor([[3.7286, 3.5938, 3.7422, 3.6022, 3.6877, 0.5000, 0.4999, 0.4999, 0.5000,\n",
      "         0.5000, 0.2146, 0.9685]])\n",
      ")\n"
     ]
    },
    {
     "name": "stderr",
     "output_type": "stream",
     "text": [
      "100%|█████████████████████████████████████████████████████████████████████| 5/5 [00:08<00:00,  1.61s/it]\n"
     ]
    },
    {
     "name": "stdout",
     "output_type": "stream",
     "text": [
      "Folder output_FF_ate1_anFalse model_3 v_1: Mean ATE over 5 rounds =  0.9481517\n",
      "Folder output_FF_ate1_anFalse model_3 v_1: Stddev ATE over 5 rounds =  0.013156179\n",
      "./output_FF_ate1_anFalse/model_3/v_2/2d66d4148cd311efadeaacde48001122\n",
      "\n",
      "Preparing data...\n",
      "\n",
      "Preparing data...\n",
      "\n",
      "Preparing data...\n",
      "NSF(\n",
      "  (transforms): ModuleList(\n",
      "    (0): MaskedAutoregressiveTransform(\n",
      "      (base): MonotonicRQSTransform(bins=8)\n",
      "      (order): [0, 1, 2, 3, 4, ..., 7, 8, 9, 10, 11]\n",
      "      (hyper): MaskedMLP(\n",
      "        (0): MaskedLinear(in_features=12, out_features=32, bias=True)\n",
      "        (1): ELU(alpha=1.0)\n",
      "        (2): MaskedLinear(in_features=32, out_features=32, bias=True)\n",
      "        (3): ELU(alpha=1.0)\n",
      "        (4): MaskedLinear(in_features=32, out_features=32, bias=True)\n",
      "        (5): ELU(alpha=1.0)\n",
      "        (6): MaskedLinear(in_features=32, out_features=276, bias=True)\n",
      "      )\n",
      "    )\n",
      "  )\n",
      "  (base): DiagNormal(loc: torch.Size([12]), scale: torch.Size([12]))\n",
      ")\n",
      "\u001b[94m[INFO] Loading <class 'causal_nf.models.causal_nf.CausalNFightning'> from ./output_FF_ate1_anFalse/model_3/v_2/2d66d4148cd311efadeaacde48001122/last.ckpt\u001b[0m\n",
      "scaler_transform StandardTransform(shift=tensor([3.6681, 3.6706, 3.6682, 3.7368, 3.5811, 0.4983, 0.5071, 0.4922, 0.5011,\n",
      "        0.5085, 0.9526, 1.9533]), scale=tensor([3.6506, 3.6124, 3.6538, 3.7235, 3.5734, 0.5000, 0.5000, 0.5000, 0.5000,\n",
      "        0.5000, 0.2125, 0.9679]))\n",
      "StandardScaler(\n",
      "\t\tmu_=tensor([[3.6681, 3.6706, 3.6682, 3.7368, 3.5811, 0.4983, 0.5071, 0.4922, 0.5011,\n",
      "         0.5085, 0.9526, 1.9533]]), \n",
      "\t\tscale_=tensor([[3.6506, 3.6124, 3.6538, 3.7235, 3.5734, 0.5000, 0.5000, 0.5000, 0.5000,\n",
      "         0.5000, 0.2125, 0.9679]])\n",
      ")\n"
     ]
    },
    {
     "name": "stderr",
     "output_type": "stream",
     "text": [
      "100%|█████████████████████████████████████████████████████████████████████| 5/5 [00:07<00:00,  1.58s/it]\n"
     ]
    },
    {
     "name": "stdout",
     "output_type": "stream",
     "text": [
      "Folder output_FF_ate1_anFalse model_3 v_2: Mean ATE over 5 rounds =  0.9757414\n",
      "Folder output_FF_ate1_anFalse model_3 v_2: Stddev ATE over 5 rounds =  0.011912286\n",
      "./output_FF_ate1_anFalse/model_3/v_3/ce6ab9108cd411ef8a23acde48001122\n",
      "\n",
      "Preparing data...\n",
      "\n",
      "Preparing data...\n",
      "\n",
      "Preparing data...\n",
      "NSF(\n",
      "  (transforms): ModuleList(\n",
      "    (0): MaskedAutoregressiveTransform(\n",
      "      (base): MonotonicRQSTransform(bins=8)\n",
      "      (order): [0, 1, 2, 3, 4, ..., 7, 8, 9, 10, 11]\n",
      "      (hyper): MaskedMLP(\n",
      "        (0): MaskedLinear(in_features=12, out_features=32, bias=True)\n",
      "        (1): ELU(alpha=1.0)\n",
      "        (2): MaskedLinear(in_features=32, out_features=32, bias=True)\n",
      "        (3): ELU(alpha=1.0)\n",
      "        (4): MaskedLinear(in_features=32, out_features=32, bias=True)\n",
      "        (5): ELU(alpha=1.0)\n",
      "        (6): MaskedLinear(in_features=32, out_features=276, bias=True)\n",
      "      )\n",
      "    )\n",
      "  )\n",
      "  (base): DiagNormal(loc: torch.Size([12]), scale: torch.Size([12]))\n",
      ")\n",
      "\u001b[94m[INFO] Loading <class 'causal_nf.models.causal_nf.CausalNFightning'> from ./output_FF_ate1_anFalse/model_3/v_3/ce6ab9108cd411ef8a23acde48001122/last.ckpt\u001b[0m\n",
      "scaler_transform StandardTransform(shift=tensor([3.7360, 3.6568, 3.6917, 3.7415, 3.7042, 0.5024, 0.4991, 0.4967, 0.5084,\n",
      "        0.5091, 0.9563, 1.9544]), scale=tensor([3.7325, 3.6153, 3.7043, 3.7589, 3.6625, 0.5000, 0.5000, 0.5000, 0.5000,\n",
      "        0.4999, 0.2046, 0.9535]))\n",
      "StandardScaler(\n",
      "\t\tmu_=tensor([[3.7360, 3.6568, 3.6917, 3.7415, 3.7042, 0.5024, 0.4991, 0.4967, 0.5084,\n",
      "         0.5091, 0.9563, 1.9544]]), \n",
      "\t\tscale_=tensor([[3.7325, 3.6153, 3.7043, 3.7589, 3.6625, 0.5000, 0.5000, 0.5000, 0.5000,\n",
      "         0.4999, 0.2046, 0.9535]])\n",
      ")\n"
     ]
    },
    {
     "name": "stderr",
     "output_type": "stream",
     "text": [
      "100%|█████████████████████████████████████████████████████████████████████| 5/5 [00:08<00:00,  1.61s/it]\n"
     ]
    },
    {
     "name": "stdout",
     "output_type": "stream",
     "text": [
      "Folder output_FF_ate1_anFalse model_3 v_3: Mean ATE over 5 rounds =  0.82738894\n",
      "Folder output_FF_ate1_anFalse model_3 v_3: Stddev ATE over 5 rounds =  0.013001755\n",
      "./output_FF_ate1_anFalse/model_3/v_4/7d99ab8e8cd611efbdfbacde48001122\n",
      "\n",
      "Preparing data...\n",
      "\n",
      "Preparing data...\n",
      "\n",
      "Preparing data...\n",
      "NSF(\n",
      "  (transforms): ModuleList(\n",
      "    (0): MaskedAutoregressiveTransform(\n",
      "      (base): MonotonicRQSTransform(bins=8)\n",
      "      (order): [0, 1, 2, 3, 4, ..., 7, 8, 9, 10, 11]\n",
      "      (hyper): MaskedMLP(\n",
      "        (0): MaskedLinear(in_features=12, out_features=32, bias=True)\n",
      "        (1): ELU(alpha=1.0)\n",
      "        (2): MaskedLinear(in_features=32, out_features=32, bias=True)\n",
      "        (3): ELU(alpha=1.0)\n",
      "        (4): MaskedLinear(in_features=32, out_features=32, bias=True)\n",
      "        (5): ELU(alpha=1.0)\n",
      "        (6): MaskedLinear(in_features=32, out_features=276, bias=True)\n",
      "      )\n",
      "    )\n",
      "  )\n",
      "  (base): DiagNormal(loc: torch.Size([12]), scale: torch.Size([12]))\n",
      ")\n",
      "\u001b[94m[INFO] Loading <class 'causal_nf.models.causal_nf.CausalNFightning'> from ./output_FF_ate1_anFalse/model_3/v_4/7d99ab8e8cd611efbdfbacde48001122/last.ckpt\u001b[0m\n",
      "scaler_transform StandardTransform(shift=tensor([3.6365, 3.6284, 3.6355, 3.6555, 3.6240, 0.4955, 0.5104, 0.5035, 0.4983,\n",
      "        0.5017, 0.9559, 1.9431]), scale=tensor([3.6846, 3.6517, 3.6019, 3.6341, 3.6000, 0.5000, 0.4999, 0.5000, 0.5000,\n",
      "        0.5000, 0.2054, 0.9558]))\n",
      "StandardScaler(\n",
      "\t\tmu_=tensor([[3.6365, 3.6284, 3.6355, 3.6555, 3.6240, 0.4955, 0.5104, 0.5035, 0.4983,\n",
      "         0.5017, 0.9559, 1.9431]]), \n",
      "\t\tscale_=tensor([[3.6846, 3.6517, 3.6019, 3.6341, 3.6000, 0.5000, 0.4999, 0.5000, 0.5000,\n",
      "         0.5000, 0.2054, 0.9558]])\n",
      ")\n"
     ]
    },
    {
     "name": "stderr",
     "output_type": "stream",
     "text": [
      "100%|█████████████████████████████████████████████████████████████████████| 5/5 [00:08<00:00,  1.77s/it]\n"
     ]
    },
    {
     "name": "stdout",
     "output_type": "stream",
     "text": [
      "Folder output_FF_ate1_anFalse model_3 v_4: Mean ATE over 5 rounds =  0.8339732\n",
      "Folder output_FF_ate1_anFalse model_3 v_4: Stddev ATE over 5 rounds =  0.012134518\n",
      "./output_FF_ate5_anFalse/model_3/v_0/fc8655448cce11efb89facde48001122\n",
      "\n",
      "Preparing data...\n",
      "\n",
      "Preparing data...\n",
      "\n",
      "Preparing data...\n",
      "NSF(\n",
      "  (transforms): ModuleList(\n",
      "    (0): MaskedAutoregressiveTransform(\n",
      "      (base): MonotonicRQSTransform(bins=8)\n",
      "      (order): [0, 1, 2, 3, 4, ..., 7, 8, 9, 10, 11]\n",
      "      (hyper): MaskedMLP(\n",
      "        (0): MaskedLinear(in_features=12, out_features=32, bias=True)\n",
      "        (1): ELU(alpha=1.0)\n",
      "        (2): MaskedLinear(in_features=32, out_features=32, bias=True)\n",
      "        (3): ELU(alpha=1.0)\n",
      "        (4): MaskedLinear(in_features=32, out_features=32, bias=True)\n",
      "        (5): ELU(alpha=1.0)\n",
      "        (6): MaskedLinear(in_features=32, out_features=276, bias=True)\n",
      "      )\n",
      "    )\n",
      "  )\n",
      "  (base): DiagNormal(loc: torch.Size([12]), scale: torch.Size([12]))\n",
      ")\n",
      "\u001b[94m[INFO] Loading <class 'causal_nf.models.causal_nf.CausalNFightning'> from ./output_FF_ate5_anFalse/model_3/v_0/fc8655448cce11efb89facde48001122/last.ckpt\u001b[0m\n",
      "scaler_transform StandardTransform(shift=tensor([3.6822, 3.6857, 3.6729, 3.6156, 3.7399, 0.4963, 0.5074, 0.5036, 0.4978,\n",
      "        0.4960, 0.9561, 6.7993]), scale=tensor([3.6885, 3.6106, 3.7016, 3.6797, 3.7784, 0.5000, 0.5000, 0.5000, 0.5000,\n",
      "        0.5000, 0.2048, 1.4296]))\n",
      "StandardScaler(\n",
      "\t\tmu_=tensor([[3.6822, 3.6857, 3.6729, 3.6156, 3.7399, 0.4963, 0.5074, 0.5036, 0.4978,\n",
      "         0.4960, 0.9561, 6.7993]]), \n",
      "\t\tscale_=tensor([[3.6885, 3.6106, 3.7016, 3.6797, 3.7784, 0.5000, 0.5000, 0.5000, 0.5000,\n",
      "         0.5000, 0.2048, 1.4296]])\n",
      ")\n"
     ]
    },
    {
     "name": "stderr",
     "output_type": "stream",
     "text": [
      "100%|█████████████████████████████████████████████████████████████████████| 5/5 [00:08<00:00,  1.64s/it]\n"
     ]
    },
    {
     "name": "stdout",
     "output_type": "stream",
     "text": [
      "Folder output_FF_ate5_anFalse model_3 v_0: Mean ATE over 5 rounds =  4.6465425\n",
      "Folder output_FF_ate5_anFalse model_3 v_0: Stddev ATE over 5 rounds =  0.011910307\n",
      "./output_FF_ate5_anFalse/model_3/v_1/5e2b35f28cd011efa8f0acde48001122\n",
      "\n",
      "Preparing data...\n",
      "\n",
      "Preparing data...\n",
      "\n",
      "Preparing data...\n",
      "NSF(\n",
      "  (transforms): ModuleList(\n",
      "    (0): MaskedAutoregressiveTransform(\n",
      "      (base): MonotonicRQSTransform(bins=8)\n",
      "      (order): [0, 1, 2, 3, 4, ..., 7, 8, 9, 10, 11]\n",
      "      (hyper): MaskedMLP(\n",
      "        (0): MaskedLinear(in_features=12, out_features=32, bias=True)\n",
      "        (1): ELU(alpha=1.0)\n",
      "        (2): MaskedLinear(in_features=32, out_features=32, bias=True)\n",
      "        (3): ELU(alpha=1.0)\n",
      "        (4): MaskedLinear(in_features=32, out_features=32, bias=True)\n",
      "        (5): ELU(alpha=1.0)\n",
      "        (6): MaskedLinear(in_features=32, out_features=276, bias=True)\n",
      "      )\n",
      "    )\n",
      "  )\n",
      "  (base): DiagNormal(loc: torch.Size([12]), scale: torch.Size([12]))\n",
      ")\n",
      "\u001b[94m[INFO] Loading <class 'causal_nf.models.causal_nf.CausalNFightning'> from ./output_FF_ate5_anFalse/model_3/v_1/5e2b35f28cd011efa8f0acde48001122/last.ckpt\u001b[0m\n",
      "scaler_transform StandardTransform(shift=tensor([3.7096, 3.6765, 3.6919, 3.5683, 3.6631, 0.5066, 0.5129, 0.5111, 0.5027,\n",
      "        0.5027, 0.9516, 6.7561]), scale=tensor([3.7286, 3.5938, 3.7422, 3.6022, 3.6877, 0.5000, 0.4999, 0.4999, 0.5000,\n",
      "        0.5000, 0.2146, 1.4762]))\n",
      "StandardScaler(\n",
      "\t\tmu_=tensor([[3.7096, 3.6765, 3.6919, 3.5683, 3.6631, 0.5066, 0.5129, 0.5111, 0.5027,\n",
      "         0.5027, 0.9516, 6.7561]]), \n",
      "\t\tscale_=tensor([[3.7286, 3.5938, 3.7422, 3.6022, 3.6877, 0.5000, 0.4999, 0.4999, 0.5000,\n",
      "         0.5000, 0.2146, 1.4762]])\n",
      ")\n"
     ]
    },
    {
     "name": "stderr",
     "output_type": "stream",
     "text": [
      "100%|█████████████████████████████████████████████████████████████████████| 5/5 [00:08<00:00,  1.70s/it]\n"
     ]
    },
    {
     "name": "stdout",
     "output_type": "stream",
     "text": [
      "Folder output_FF_ate5_anFalse model_3 v_1: Mean ATE over 5 rounds =  4.900303\n",
      "Folder output_FF_ate5_anFalse model_3 v_1: Stddev ATE over 5 rounds =  0.012774208\n",
      "./output_FF_ate5_anFalse/model_3/v_2/176fcd008cd811ef991aacde48001122\n",
      "\n",
      "Preparing data...\n",
      "\n",
      "Preparing data...\n",
      "\n",
      "Preparing data...\n",
      "NSF(\n",
      "  (transforms): ModuleList(\n",
      "    (0): MaskedAutoregressiveTransform(\n",
      "      (base): MonotonicRQSTransform(bins=8)\n",
      "      (order): [0, 1, 2, 3, 4, ..., 7, 8, 9, 10, 11]\n",
      "      (hyper): MaskedMLP(\n",
      "        (0): MaskedLinear(in_features=12, out_features=32, bias=True)\n",
      "        (1): ELU(alpha=1.0)\n",
      "        (2): MaskedLinear(in_features=32, out_features=32, bias=True)\n",
      "        (3): ELU(alpha=1.0)\n",
      "        (4): MaskedLinear(in_features=32, out_features=32, bias=True)\n",
      "        (5): ELU(alpha=1.0)\n",
      "        (6): MaskedLinear(in_features=32, out_features=276, bias=True)\n",
      "      )\n",
      "    )\n",
      "  )\n",
      "  (base): DiagNormal(loc: torch.Size([12]), scale: torch.Size([12]))\n",
      ")\n",
      "\u001b[94m[INFO] Loading <class 'causal_nf.models.causal_nf.CausalNFightning'> from ./output_FF_ate5_anFalse/model_3/v_2/176fcd008cd811ef991aacde48001122/last.ckpt\u001b[0m\n",
      "scaler_transform StandardTransform(shift=tensor([3.6681, 3.6706, 3.6682, 3.7368, 3.5811, 0.4983, 0.5071, 0.4922, 0.5011,\n",
      "        0.5085, 0.9526, 6.7638]), scale=tensor([3.6506, 3.6124, 3.6538, 3.7235, 3.5734, 0.5000, 0.5000, 0.5000, 0.5000,\n",
      "        0.5000, 0.2125, 1.4617]))\n",
      "StandardScaler(\n",
      "\t\tmu_=tensor([[3.6681, 3.6706, 3.6682, 3.7368, 3.5811, 0.4983, 0.5071, 0.4922, 0.5011,\n",
      "         0.5085, 0.9526, 6.7638]]), \n",
      "\t\tscale_=tensor([[3.6506, 3.6124, 3.6538, 3.7235, 3.5734, 0.5000, 0.5000, 0.5000, 0.5000,\n",
      "         0.5000, 0.2125, 1.4617]])\n",
      ")\n"
     ]
    },
    {
     "name": "stderr",
     "output_type": "stream",
     "text": [
      "100%|█████████████████████████████████████████████████████████████████████| 5/5 [00:09<00:00,  1.84s/it]\n"
     ]
    },
    {
     "name": "stdout",
     "output_type": "stream",
     "text": [
      "Folder output_FF_ate5_anFalse model_3 v_2: Mean ATE over 5 rounds =  4.8931274\n",
      "Folder output_FF_ate5_anFalse model_3 v_2: Stddev ATE over 5 rounds =  0.013791771\n",
      "./output_FF_ate5_anFalse/model_3/v_3/9d61122e8cd911efaaeeacde48001122\n",
      "\n",
      "Preparing data...\n",
      "\n",
      "Preparing data...\n",
      "\n",
      "Preparing data...\n",
      "NSF(\n",
      "  (transforms): ModuleList(\n",
      "    (0): MaskedAutoregressiveTransform(\n",
      "      (base): MonotonicRQSTransform(bins=8)\n",
      "      (order): [0, 1, 2, 3, 4, ..., 7, 8, 9, 10, 11]\n",
      "      (hyper): MaskedMLP(\n",
      "        (0): MaskedLinear(in_features=12, out_features=32, bias=True)\n",
      "        (1): ELU(alpha=1.0)\n",
      "        (2): MaskedLinear(in_features=32, out_features=32, bias=True)\n",
      "        (3): ELU(alpha=1.0)\n",
      "        (4): MaskedLinear(in_features=32, out_features=32, bias=True)\n",
      "        (5): ELU(alpha=1.0)\n",
      "        (6): MaskedLinear(in_features=32, out_features=276, bias=True)\n",
      "      )\n",
      "    )\n",
      "  )\n",
      "  (base): DiagNormal(loc: torch.Size([12]), scale: torch.Size([12]))\n",
      ")\n",
      "\u001b[94m[INFO] Loading <class 'causal_nf.models.causal_nf.CausalNFightning'> from ./output_FF_ate5_anFalse/model_3/v_3/9d61122e8cd911efaaeeacde48001122/last.ckpt\u001b[0m\n",
      "scaler_transform StandardTransform(shift=tensor([3.7360, 3.6568, 3.6917, 3.7415, 3.7042, 0.5024, 0.4991, 0.4967, 0.5084,\n",
      "        0.5091, 0.9563, 6.7794]), scale=tensor([3.7325, 3.6153, 3.7043, 3.7589, 3.6625, 0.5000, 0.5000, 0.5000, 0.5000,\n",
      "        0.4999, 0.2046, 1.4155]))\n",
      "StandardScaler(\n",
      "\t\tmu_=tensor([[3.7360, 3.6568, 3.6917, 3.7415, 3.7042, 0.5024, 0.4991, 0.4967, 0.5084,\n",
      "         0.5091, 0.9563, 6.7794]]), \n",
      "\t\tscale_=tensor([[3.7325, 3.6153, 3.7043, 3.7589, 3.6625, 0.5000, 0.5000, 0.5000, 0.5000,\n",
      "         0.4999, 0.2046, 1.4155]])\n",
      ")\n"
     ]
    },
    {
     "name": "stderr",
     "output_type": "stream",
     "text": [
      "100%|█████████████████████████████████████████████████████████████████████| 5/5 [00:09<00:00,  1.94s/it]\n"
     ]
    },
    {
     "name": "stdout",
     "output_type": "stream",
     "text": [
      "Folder output_FF_ate5_anFalse model_3 v_3: Mean ATE over 5 rounds =  4.549229\n",
      "Folder output_FF_ate5_anFalse model_3 v_3: Stddev ATE over 5 rounds =  0.014754674\n",
      "./output_FF_ate5_anFalse/model_3/v_4/43d7da4c8cdb11ef9a40acde48001122\n",
      "\n",
      "Preparing data...\n",
      "\n",
      "Preparing data...\n",
      "\n",
      "Preparing data...\n",
      "NSF(\n",
      "  (transforms): ModuleList(\n",
      "    (0): MaskedAutoregressiveTransform(\n",
      "      (base): MonotonicRQSTransform(bins=8)\n",
      "      (order): [0, 1, 2, 3, 4, ..., 7, 8, 9, 10, 11]\n",
      "      (hyper): MaskedMLP(\n",
      "        (0): MaskedLinear(in_features=12, out_features=32, bias=True)\n",
      "        (1): ELU(alpha=1.0)\n",
      "        (2): MaskedLinear(in_features=32, out_features=32, bias=True)\n",
      "        (3): ELU(alpha=1.0)\n",
      "        (4): MaskedLinear(in_features=32, out_features=32, bias=True)\n",
      "        (5): ELU(alpha=1.0)\n",
      "        (6): MaskedLinear(in_features=32, out_features=276, bias=True)\n",
      "      )\n",
      "    )\n",
      "  )\n",
      "  (base): DiagNormal(loc: torch.Size([12]), scale: torch.Size([12]))\n",
      ")\n",
      "\u001b[94m[INFO] Loading <class 'causal_nf.models.causal_nf.CausalNFightning'> from ./output_FF_ate5_anFalse/model_3/v_4/43d7da4c8cdb11ef9a40acde48001122/last.ckpt\u001b[0m\n",
      "scaler_transform StandardTransform(shift=tensor([3.6365, 3.6284, 3.6355, 3.6555, 3.6240, 0.4955, 0.5104, 0.5035, 0.4983,\n",
      "        0.5017, 0.9559, 6.7666]), scale=tensor([3.6846, 3.6517, 3.6019, 3.6341, 3.6000, 0.5000, 0.4999, 0.5000, 0.5000,\n",
      "        0.5000, 0.2054, 1.4132]))\n",
      "StandardScaler(\n",
      "\t\tmu_=tensor([[3.6365, 3.6284, 3.6355, 3.6555, 3.6240, 0.4955, 0.5104, 0.5035, 0.4983,\n",
      "         0.5017, 0.9559, 6.7666]]), \n",
      "\t\tscale_=tensor([[3.6846, 3.6517, 3.6019, 3.6341, 3.6000, 0.5000, 0.4999, 0.5000, 0.5000,\n",
      "         0.5000, 0.2054, 1.4132]])\n",
      ")\n"
     ]
    },
    {
     "name": "stderr",
     "output_type": "stream",
     "text": [
      "100%|█████████████████████████████████████████████████████████████████████| 5/5 [00:10<00:00,  2.10s/it]"
     ]
    },
    {
     "name": "stdout",
     "output_type": "stream",
     "text": [
      "Folder output_FF_ate5_anFalse model_3 v_4: Mean ATE over 5 rounds =  4.6792707\n",
      "Folder output_FF_ate5_anFalse model_3 v_4: Stddev ATE over 5 rounds =  0.013229644\n"
     ]
    },
    {
     "name": "stderr",
     "output_type": "stream",
     "text": [
      "\n"
     ]
    }
   ],
   "source": [
    "for ate_folder in ate_folders:\n",
    "    for model in models:\n",
    "        for version in versions:\n",
    "            \n",
    "            base_path = f'./{ate_folder}/{model}/{version}/'\n",
    "\n",
    "            try:\n",
    "                directories = [d for d in os.listdir(base_path) if os.path.isdir(os.path.join(base_path, d))]\n",
    "            except:    \n",
    "                print(f\"No directories found in {base_path}. Skip. \")\n",
    "                continue\n",
    "            \n",
    "            # Assuming there's only one directory in A/B/C\n",
    "            if len(directories)==1:\n",
    "                file_dir = os.path.join(base_path, directories[0])\n",
    "                print(file_dir)\n",
    "            elif len(directories)>1:\n",
    "                print(f\"Multiple directories found: {directories} in base path {base_path}\")\n",
    "            \n",
    "            \n",
    "            # file_dir = './output_FF_ate1/model_1/v_0/2e684ef6533a11ef991cacde48001122'\n",
    "            ckpt_file= f\"{file_dir}/last.ckpt\"\n",
    "            \n",
    "            args_list = []\n",
    "            args =  CfgNode({'config_file': f'{file_dir}/wandb_local/config_local.yaml', \n",
    "                             'config_default_file': f'{file_dir}/wandb_local/default_config.yaml', \n",
    "                             'project': None, 'wandb_mode': 'disabled', 'wandb_group': None, \n",
    "                             'load_model': f'{file_dir}', 'delete_ckpt': False})\n",
    "            config = causal_nf_config.build_config(\n",
    "                config_file=args.config_file,\n",
    "                args_list=args_list,\n",
    "                config_default_file=args.config_default_file,\n",
    "            )\n",
    "            causal_nf_config.assert_cfg_and_config(cfg, config)\n",
    "\n",
    "            if model=='model_1':\n",
    "                from causal_nf.preparators.FF_preparator_M1 import FFPreparatorM1 \n",
    "                preparator = FFPreparatorM1.loader(cfg.dataset)\n",
    "                index = 4\n",
    "            if model=='model_2':\n",
    "                from causal_nf.preparators.FF_preparator_M2 import FFPreparatorM2\n",
    "                preparator = FFPreparatorM2.loader(cfg.dataset)\n",
    "                index = 4\n",
    "            if model=='model_3':\n",
    "                from causal_nf.preparators.FF_preparator_M3 import FFPreparatorM3\n",
    "                preparator = FFPreparatorM3.loader(cfg.dataset)\n",
    "                index = 10\n",
    "            \n",
    "            \n",
    "            preparator.prepare_data()\n",
    "            \n",
    "            # IMPORTANT: insert ckpt file otherwise it loads anyway bt something wrong\n",
    "            model_lightning = causal_nf_train.load_model(cfg=cfg, preparator=preparator, ckpt_file=ckpt_file)\n",
    "            _ = model_lightning.model.eval()\n",
    "            \n",
    "            \n",
    "            a = 1\n",
    "            b = 0\n",
    "            rounds = 5\n",
    "            \n",
    "            \n",
    "            ates = []\n",
    "            for seed in tqdm(range(rounds)):\n",
    "                torch.random.manual_seed(seed + 1)\n",
    "                ate = model_lightning.model.compute_ate(\n",
    "                    index,\n",
    "                    a=a,\n",
    "                    b=b,\n",
    "                    num_samples=10000,\n",
    "                    scaler=preparator.scaler_transform,\n",
    "                )\n",
    "                ates.append(ate[-1])\n",
    "            ates = np.array(ates)\n",
    "            all_ates[ate_folder][model][version] = ates\n",
    "            \n",
    "            ate_mean = ates.mean()\n",
    "            ate_stddev = ates.std()\n",
    "            print(f\"Folder {ate_folder} {model} {version}: Mean ATE over {rounds} rounds = \", ate_mean)\n",
    "            print(f\"Folder {ate_folder} {model} {version}: Stddev ATE over {rounds} rounds = \", ate_stddev)\n",
    "            "
   ]
  },
  {
   "cell_type": "code",
   "execution_count": 9,
   "id": "42493f9d-a09c-4fdc-875a-dd213e4b3f36",
   "metadata": {},
   "outputs": [
    {
     "data": {
      "text/plain": [
       "{'output_FF_ate1_anFalse': {'model_1': {'v_0': [],\n",
       "   'v_1': [],\n",
       "   'v_2': [],\n",
       "   'v_3': [],\n",
       "   'v_4': []},\n",
       "  'model_2': {'v_0': [], 'v_1': [], 'v_2': [], 'v_3': [], 'v_4': []},\n",
       "  'model_3': {'v_0': array([0.78446054, 0.75983334, 0.78506064, 0.7983589 , 0.7841196 ],\n",
       "         dtype=float32),\n",
       "   'v_1': array([0.95228267, 0.9230776 , 0.95219433, 0.9621017 , 0.9511019 ],\n",
       "         dtype=float32),\n",
       "   'v_2': array([0.97803104, 0.9535986 , 0.97753763, 0.9896543 , 0.97988534],\n",
       "         dtype=float32),\n",
       "   'v_3': array([0.8294792 , 0.80320954, 0.8300955 , 0.8426051 , 0.83155525],\n",
       "         dtype=float32),\n",
       "   'v_4': array([0.8377652 , 0.81177163, 0.8351793 , 0.84888005, 0.83626986],\n",
       "         dtype=float32)}},\n",
       " 'output_FF_ate5_anFalse': {'model_1': {'v_0': [],\n",
       "   'v_1': [],\n",
       "   'v_2': [],\n",
       "   'v_3': [],\n",
       "   'v_4': []},\n",
       "  'model_2': {'v_0': [], 'v_1': [], 'v_2': [], 'v_3': [], 'v_4': []},\n",
       "  'model_3': {'v_0': array([4.6478868, 4.626202 , 4.654108 , 4.6615086, 4.6430044],\n",
       "         dtype=float32),\n",
       "   'v_1': array([4.9039855, 4.8756924, 4.9064736, 4.9126663, 4.9026966],\n",
       "         dtype=float32),\n",
       "   'v_2': array([4.89433  , 4.869237 , 4.8952737, 4.9124336, 4.8943634],\n",
       "         dtype=float32),\n",
       "   'v_3': array([4.552432 , 4.5224085, 4.555295 , 4.567172 , 4.5488377],\n",
       "         dtype=float32),\n",
       "   'v_4': array([4.682127 , 4.65575  , 4.6848197, 4.6960125, 4.677644 ],\n",
       "         dtype=float32)}}}"
      ]
     },
     "execution_count": 9,
     "metadata": {},
     "output_type": "execute_result"
    }
   ],
   "source": [
    "all_ates"
   ]
  },
  {
   "cell_type": "code",
   "execution_count": 13,
   "id": "5172e6b3-1458-46a7-bd7c-142199b57115",
   "metadata": {},
   "outputs": [
    {
     "data": {
      "text/plain": [
       "{'output_FF_ate1_anTrue': {'model_1': {'v_0': [],\n",
       "   'v_1': [],\n",
       "   'v_2': [],\n",
       "   'v_3': [],\n",
       "   'v_4': []},\n",
       "  'model_2': {'v_0': [], 'v_1': [], 'v_2': [], 'v_3': [], 'v_4': []},\n",
       "  'model_3': {'v_0': array([0.6050204 , 0.58129156, 0.6107422 , 0.62358487, 0.60808086],\n",
       "         dtype=float32),\n",
       "   'v_1': array([0.82263505, 0.7944881 , 0.8262924 , 0.83440936, 0.8209133 ],\n",
       "         dtype=float32),\n",
       "   'v_2': [],\n",
       "   'v_3': [],\n",
       "   'v_4': []}},\n",
       " 'output_FF_ate5_anTrue': {'model_1': {'v_0': [],\n",
       "   'v_1': [],\n",
       "   'v_2': [],\n",
       "   'v_3': [],\n",
       "   'v_4': []},\n",
       "  'model_2': {'v_0': [], 'v_1': [], 'v_2': [], 'v_3': [], 'v_4': []},\n",
       "  'model_3': {'v_0': array([4.3052893, 4.263579 , 4.2991686, 4.309739 , 4.297138 ],\n",
       "         dtype=float32),\n",
       "   'v_1': array([4.4943237, 4.4393473, 4.4881344, 4.4939632, 4.48355  ],\n",
       "         dtype=float32),\n",
       "   'v_2': [],\n",
       "   'v_3': [],\n",
       "   'v_4': []}}}"
      ]
     },
     "execution_count": 13,
     "metadata": {},
     "output_type": "execute_result"
    }
   ],
   "source": [
    "all_ates"
   ]
  },
  {
   "cell_type": "code",
   "execution_count": 12,
   "id": "2323be8d-cde1-4eae-a49c-f230b9aca461",
   "metadata": {},
   "outputs": [],
   "source": [
    "all_ates_stats = {'output_FF_ate1_anFalse': {'model_1':{'mean':[], 'std':[]}, 'model_2':{'mean':[], 'std':[]}, 'model_3':{'mean':[], 'std':[]}, },\n",
    "                 'output_FF_ate5_anFalse': {'model_1':{'mean':[], 'std':[]}, 'model_2':{'mean':[], 'std':[]}, 'model_3':{'mean':[], 'std':[]}, } } \n"
   ]
  },
  {
   "cell_type": "code",
   "execution_count": 13,
   "id": "793d3014-2926-4574-b1a7-332a4e9ddc5e",
   "metadata": {},
   "outputs": [
    {
     "name": "stdout",
     "output_type": "stream",
     "text": [
      "[0.78446054, 0.75983334, 0.78506064, 0.7983589, 0.7841196, 0.95228267, 0.9230776, 0.95219433, 0.9621017, 0.9511019, 0.97803104, 0.9535986, 0.97753763, 0.9896543, 0.97988534, 0.8294792, 0.80320954, 0.8300955, 0.8426051, 0.83155525, 0.8377652, 0.81177163, 0.8351793, 0.84888005, 0.83626986]\n",
      "[4.6478868, 4.626202, 4.654108, 4.6615086, 4.6430044, 4.9039855, 4.8756924, 4.9064736, 4.9126663, 4.9026966, 4.89433, 4.869237, 4.8952737, 4.9124336, 4.8943634, 4.552432, 4.5224085, 4.555295, 4.567172, 4.5488377, 4.682127, 4.65575, 4.6848197, 4.6960125, 4.677644]\n"
     ]
    }
   ],
   "source": [
    "for ate_folder in ate_folders:\n",
    "    for model in models:\n",
    "        ates_model = []\n",
    "        for version in versions:\n",
    "            ates_v = all_ates[ate_folder][model][version]\n",
    "            ates_model += list(ates_v)\n",
    "        print(ates_model)\n",
    "        all_ates_stats[ate_folder][model]['mean'] = np.array(ates_model).mean()\n",
    "        all_ates_stats[ate_folder][model]['std'] = np.array(ates_model).std()\n",
    "        \n",
    "        "
   ]
  },
  {
   "cell_type": "code",
   "execution_count": 14,
   "id": "ae2d6305-b044-4a83-8a66-e2dc89b50de4",
   "metadata": {},
   "outputs": [
    {
     "data": {
      "text/plain": [
       "{'output_FF_ate1_anFalse': {'model_1': {'mean': [], 'std': []},\n",
       "  'model_2': {'mean': [], 'std': []},\n",
       "  'model_3': {'mean': 0.8735243, 'std': 0.075903855}},\n",
       " 'output_FF_ate5_anFalse': {'model_1': {'mean': [], 'std': []},\n",
       "  'model_2': {'mean': [], 'std': []},\n",
       "  'model_3': {'mean': 4.7336946, 'std': 0.1404637}}}"
      ]
     },
     "execution_count": 14,
     "metadata": {},
     "output_type": "execute_result"
    }
   ],
   "source": [
    "all_ates_stats"
   ]
  },
  {
   "cell_type": "code",
   "execution_count": null,
   "id": "f3d859a6-4b84-4e8b-a537-d938a592817c",
   "metadata": {},
   "outputs": [],
   "source": []
  }
 ],
 "metadata": {
  "kernelspec": {
   "display_name": "Python 3 (ipykernel)",
   "language": "python",
   "name": "python3"
  },
  "language_info": {
   "codemirror_mode": {
    "name": "ipython",
    "version": 3
   },
   "file_extension": ".py",
   "mimetype": "text/x-python",
   "name": "python",
   "nbconvert_exporter": "python",
   "pygments_lexer": "ipython3",
   "version": "3.9.12"
  }
 },
 "nbformat": 4,
 "nbformat_minor": 5
}
