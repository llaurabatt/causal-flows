{
 "cells": [
  {
   "cell_type": "code",
   "execution_count": 1,
   "id": "ce6deb5c-72f2-4660-a00f-aff2c3a9642c",
   "metadata": {},
   "outputs": [],
   "source": [
    "import causal_nf.utils.wandb_local as wandb_local\n",
    "import causal_nf.config as causal_nf_config\n",
    "from causal_nf.config import cfg\n",
    "import causal_nf.utils.training as causal_nf_train\n",
    "import os\n",
    "import glob\n",
    "import argparse\n",
    "from yacs.config import CfgNode \n",
    "import torch\n",
    "import causal_nf.utils.io as causal_nf_io\n",
    "import time\n",
    "import numpy as np\n",
    "from causal_nf.preparators.FF_preparator import FFPreparator\n",
    "from causal_nf.config import cfg\n",
    "from tqdm import tqdm"
   ]
  },
  {
   "cell_type": "code",
   "execution_count": 2,
   "id": "4a956ffd-5e6d-44bd-89e7-2f2a7795b021",
   "metadata": {},
   "outputs": [],
   "source": [
    "file_dir = './output_FF_ate5/c2d2c83c52bd11efa82ed90a43d0f393'\n",
    "ckpt_file= f\"{file_dir}/last.ckpt\""
   ]
  },
  {
   "cell_type": "code",
   "execution_count": 3,
   "id": "e6f05be1-45de-4346-ab24-ed856e94fc46",
   "metadata": {},
   "outputs": [],
   "source": [
    "args_list = []\n",
    "args =  CfgNode({'config_file': f'{file_dir}/wandb_local/config_local.yaml', \n",
    "                 'config_default_file': f'{file_dir}/wandb_local/default_config.yaml', \n",
    "                 'project': None, 'wandb_mode': 'disabled', 'wandb_group': None, \n",
    "                 'load_model': f'{file_dir}', 'delete_ckpt': False})\n",
    "config = causal_nf_config.build_config(\n",
    "    config_file=args.config_file,\n",
    "    args_list=args_list,\n",
    "    config_default_file=args.config_default_file,\n",
    ")\n",
    "causal_nf_config.assert_cfg_and_config(cfg, config)"
   ]
  },
  {
   "cell_type": "code",
   "execution_count": 4,
   "id": "61ef2e8f-8dcf-4787-ae4f-b528abcafd3a",
   "metadata": {},
   "outputs": [
    {
     "name": "stdout",
     "output_type": "stream",
     "text": [
      "\n",
      "Preparing data...\n",
      "\n",
      "Preparing data...\n",
      "\n",
      "Preparing data...\n"
     ]
    }
   ],
   "source": [
    "preparator = FFPreparator.loader(cfg.dataset)\n",
    "preparator.prepare_data()"
   ]
  },
  {
   "cell_type": "code",
   "execution_count": 5,
   "id": "b24d42d8-f39d-4421-bc40-56d9853b5c7d",
   "metadata": {},
   "outputs": [
    {
     "name": "stdout",
     "output_type": "stream",
     "text": [
      "NSF(\n",
      "  (transforms): ModuleList(\n",
      "    (0): MaskedAutoregressiveTransform(\n",
      "      (base): MonotonicRQSTransform(bins=8)\n",
      "      (order): [0, 1, 2, 3, 4, 5]\n",
      "      (hyper): MaskedMLP(\n",
      "        (0): MaskedLinear(in_features=6, out_features=32, bias=True)\n",
      "        (1): ELU(alpha=1.0)\n",
      "        (2): MaskedLinear(in_features=32, out_features=32, bias=True)\n",
      "        (3): ELU(alpha=1.0)\n",
      "        (4): MaskedLinear(in_features=32, out_features=32, bias=True)\n",
      "        (5): ELU(alpha=1.0)\n",
      "        (6): MaskedLinear(in_features=32, out_features=138, bias=True)\n",
      "      )\n",
      "    )\n",
      "  )\n",
      "  (base): DiagNormal(loc: torch.Size([6]), scale: torch.Size([6]))\n",
      ")\n",
      "\u001b[94m[INFO] Loading <class 'causal_nf.models.causal_nf.CausalNFightning'> from ./output_FF_ate5/c2d2c83c52bd11efa82ed90a43d0f393/last.ckpt\u001b[0m\n",
      "scaler_transform StandardTransform(shift=tensor([2.7234, 2.7408, 2.7082, 2.6903, 0.9523, 6.7677]), scale=tensor([2.7295, 2.6963, 2.7701, 2.7185, 0.2133, 1.5822]))\n",
      "StandardScaler(\n",
      "\t\tmu_=tensor([[2.7234, 2.7408, 2.7082, 2.6903, 0.9523, 6.7677]]), \n",
      "\t\tscale_=tensor([[2.7295, 2.6963, 2.7701, 2.7185, 0.2133, 1.5822]])\n",
      ")\n"
     ]
    }
   ],
   "source": [
    "# IMPORTANT: insert ckpt file otherwise it loads anyway bt something wrong\n",
    "model_lightning = causal_nf_train.load_model(cfg=cfg, preparator=preparator, ckpt_file=ckpt_file)\n",
    "_ = model_lightning.model.eval()"
   ]
  },
  {
   "cell_type": "code",
   "execution_count": 6,
   "id": "e988be17-090d-41b8-a204-2330450410eb",
   "metadata": {},
   "outputs": [
    {
     "name": "stderr",
     "output_type": "stream",
     "text": [
      "100%|██████████████████████████████████████████████████████████████████████████████████████████████████████████████████████████████| 25/25 [00:15<00:00,  1.58it/s]\n"
     ]
    }
   ],
   "source": [
    "index = 4\n",
    "a = 1\n",
    "b = 0\n",
    "\n",
    "\n",
    "ates = []\n",
    "for seed in tqdm(range(25)):\n",
    "    torch.random.manual_seed(seed + 1)\n",
    "    ate = model_lightning.model.compute_ate(\n",
    "        index,\n",
    "        a=a,\n",
    "        b=b,\n",
    "        num_samples=10000,\n",
    "        scaler=preparator.scaler_transform,\n",
    "    )\n",
    "    ates.append(ate[-1])\n",
    "ates = np.array(ates)"
   ]
  },
  {
   "cell_type": "code",
   "execution_count": 7,
   "id": "fd77800e-efe3-4c2d-8cef-8e3599818b1d",
   "metadata": {},
   "outputs": [
    {
     "name": "stdout",
     "output_type": "stream",
     "text": [
      "Mean ATE =  4.2451477\n",
      "Stddev ATE =  0.019233035\n"
     ]
    }
   ],
   "source": [
    "ate_mean = ates.mean()\n",
    "ate_stddev = ates.std()\n",
    "print(\"Mean ATE = \", ate_mean)\n",
    "print(\"Stddev ATE = \", ate_stddev)"
   ]
  }
 ],
 "metadata": {
  "kernelspec": {
   "display_name": "Python 3 (ipykernel)",
   "language": "python",
   "name": "python3"
  },
  "language_info": {
   "codemirror_mode": {
    "name": "ipython",
    "version": 3
   },
   "file_extension": ".py",
   "mimetype": "text/x-python",
   "name": "python",
   "nbconvert_exporter": "python",
   "pygments_lexer": "ipython3",
   "version": "3.9.12"
  }
 },
 "nbformat": 4,
 "nbformat_minor": 5
}
